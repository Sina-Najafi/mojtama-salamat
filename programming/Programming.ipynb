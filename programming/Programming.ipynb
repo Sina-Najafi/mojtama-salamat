{
  "nbformat": 4,
  "nbformat_minor": 0,
  "metadata": {
    "colab": {
      "name": "Programming.ipynb",
      "provenance": [],
      "collapsed_sections": []
    },
    "kernelspec": {
      "name": "python3",
      "display_name": "Python 3"
    },
    "language_info": {
      "name": "python"
    }
  },
  "cells": [
    {
      "cell_type": "markdown",
      "source": [
        "# Sina Najafi #\n",
        "Programming challenge"
      ],
      "metadata": {
        "id": "NFS84lA1BOep"
      }
    },
    {
      "cell_type": "code",
      "execution_count": null,
      "metadata": {
        "colab": {
          "base_uri": "https://localhost:8080/"
        },
        "id": "P_-iZotA6X3S",
        "outputId": "ec643017-e588-4ab6-f8f9-74b85e909707"
      },
      "outputs": [
        {
          "output_type": "stream",
          "name": "stdout",
          "text": [
            "طبیعتا کدی که برای پردازش این فایل می نویسید نباید جمله بندی فایل را بهم بریزد و تنها مواردی که ذکر شده است را باید تغییر بدهد.\n",
            "\n"
          ]
        }
      ],
      "source": [
        "# Read the input.txt file\n",
        "with open('input.txt') as f:\n",
        "    contents = f.readlines()\n",
        "\n",
        "print(contents[1])"
      ]
    },
    {
      "cell_type": "markdown",
      "source": [
        "### problem 1 ###\n",
        "\n"
      ],
      "metadata": {
        "id": "hFRFyjF3fQFl"
      }
    },
    {
      "cell_type": "code",
      "source": [
        "# Remove any sentence that doesn't satisfy the part 1 of the problem\n",
        "# The condition: 10 < words in the sentence < 50\n",
        "final_1 = []\n",
        "\n",
        "# First lets figure out the number of words in each sentence!\n",
        "# I am going to do it counting spaces! because between words there are spaces except the last word!\n",
        "number_of_words = []\n",
        "for sentence in contents:\n",
        "  counter = len(sentence.split())\n",
        "  number_of_words.append(counter)\n",
        "print(number_of_words)\n",
        "\n",
        "###############################################\n",
        "# alternative way to count the number of words if we didn't know the .split() method!\n",
        "# counter = 1   # setting counter to 1 to include the last word\n",
        "# number_of_words = []\n",
        "# for sentence in contents:\n",
        "#   for character in sentence:\n",
        "#     if(character == ' '):\n",
        "#       counter += 1\n",
        "#   number_of_words.append(counter)\n",
        "#   counter = 1\n",
        "###############################################\n",
        "\n",
        "# now let's modify our data as the part 1 of the problem wants\n",
        "n_of_w_with_indexes = list(enumerate(number_of_words))\n",
        "print(n_of_w_with_indexes)\n",
        "index1 = [] # the indexes of the sentences which satisfy conditon 1\n",
        "for index, num in n_of_w_with_indexes:\n",
        "  if( num > 10 and num < 50):\n",
        "    index1.append(index)\n",
        "for index in index1:\n",
        "  final_1.append(contents[index])\n",
        "print(final_1)\n",
        "\n",
        "# write the text in an output.txt  \n",
        "file_1 = open(\"output1.txt\",\"w\")\n",
        "file_1.writelines(final_1)\n",
        "file_1.close()"
      ],
      "metadata": {
        "colab": {
          "base_uri": "https://localhost:8080/"
        },
        "id": "QUxijkBlDFDJ",
        "outputId": "4cd7ea13-96b5-4ffc-ecc4-f1a34471db1b"
      },
      "execution_count": null,
      "outputs": [
        {
          "output_type": "stream",
          "name": "stdout",
          "text": [
            "[19, 27, 32, 55, 29]\n",
            "[(0, 19), (1, 27), (2, 32), (3, 55), (4, 29)]\n",
            "['این یک فایل متنی نمونه است که برای مسئله برنامه نویسی تولید شده است و هیچ کارکرد دیگری ندارد.\\n', 'طبیعتا کدی که برای پردازش این فایل می نویسید نباید جمله بندی فایل را بهم بریزد و تنها مواردی که ذکر شده است را باید تغییر بدهد.\\n', 'از این موارد می توانیم به حَذْفْ اِعْرآب وَ کآراکتِرْ های غيرِ مُجازْ اِشاره کُنیمْ، البته نباید فراموش کرد که . و ، هم جزو کاراکتر های غیر مجاز محسوب می شوند.\\n', 'در نهایت موراد موجود از كاراكتر هاي عربي که احتمالا کم ةم نیستند باید به معدل هاي فارسي آنها که در صورت مسئله بة آن اشارة شدة تبديل شوند.']\n"
          ]
        }
      ]
    },
    {
      "cell_type": "markdown",
      "source": [
        "### problem 2 ###"
      ],
      "metadata": {
        "id": "sKfaSRK3fV9j"
      }
    },
    {
      "cell_type": "code",
      "source": [
        "!pip install num2fawords"
      ],
      "metadata": {
        "colab": {
          "base_uri": "https://localhost:8080/"
        },
        "id": "1yx01nI-NZxh",
        "outputId": "dbf213b3-b3dc-4623-ff35-12c3c111ee03"
      },
      "execution_count": null,
      "outputs": [
        {
          "output_type": "stream",
          "name": "stdout",
          "text": [
            "Looking in indexes: https://pypi.org/simple, https://us-python.pkg.dev/colab-wheels/public/simple/\n",
            "Requirement already satisfied: num2fawords in /usr/local/lib/python3.7/dist-packages (1.1)\n"
          ]
        }
      ]
    },
    {
      "cell_type": "code",
      "source": [
        "# change numbers to words\n",
        "final_2 = []\n",
        "from num2fawords import words\n",
        "\n",
        "# a helper function to check if a string is a number\n",
        "def is_numbers(inputString):\n",
        "    return any(char.isdigit() for char in inputString)\n",
        "\n",
        "for sentence in contents:\n",
        "  content = sentence.replace('۰','0')\n",
        "  content = content.replace('۱','1')\n",
        "  content = content.replace('۲','2')\n",
        "  content = content.replace('۳','3')\n",
        "  content = sentence.replace('۴','4')\n",
        "  content = sentence.replace('۵','5')\n",
        "  content = sentence.replace('۶','6')\n",
        "  content = sentence.replace('۷','7')\n",
        "  content = sentence.replace('۸','8')\n",
        "  content = content.replace('۹','9')\n",
        "  my_words = content.split()\n",
        "  my_new_words = []\n",
        "  for word in my_words:\n",
        "    if(is_numbers(word)):\n",
        "      word = words(word)\n",
        "    my_new_words.append(word)\n",
        "  final_2.append(\" \".join(my_new_words))\n",
        "\n",
        "# write the text in an output.txt\n",
        "output_2 = '\\n'.join(final_2)\n",
        "file_2 = open(\"output2.txt\",\"w\")\n",
        "file_2.writelines(output_2)\n",
        "file_2.close()\n",
        "\n",
        "\n",
        "\n",
        "print(final_2[3])\n",
        "print(output_2)\n",
        "\n"
      ],
      "metadata": {
        "colab": {
          "base_uri": "https://localhost:8080/"
        },
        "id": "0U6vaqIjP_Vg",
        "outputId": "80af458b-9a55-46de-d606-da5204f8076e"
      },
      "execution_count": null,
      "outputs": [
        {
          "output_type": "stream",
          "name": "stdout",
          "text": [
            "از سایر موارد میتوان به تبدیل اعدادی که با رقم نوشته شده اند به حروف یاد کرد، به عنوان مثال عدد یکصد و بیست و سه هزار باید به صورت صد و بیست و سه هزار نوشته شود هرچند که نیازی نیست عدد دو میلیون و نود و سه هزار و پانصد و سی و یک بصورت دو میلیون و نود هزار و پانصد و سی و یک نوشته شود.\n",
            "این یک فایل متنی نمونه است که برای مسئله برنامه نویسی تولید شده است و هیچ کارکرد دیگری ندارد.\n",
            "طبیعتا کدی که برای پردازش این فایل می نویسید نباید جمله بندی فایل را بهم بریزد و تنها مواردی که ذکر شده است را باید تغییر بدهد.\n",
            "از این موارد می توانیم به حَذْفْ اِعْرآب وَ کآراکتِرْ های غيرِ مُجازْ اِشاره کُنیمْ، البته نباید فراموش کرد که . و ، هم جزو کاراکتر های غیر مجاز محسوب می شوند.\n",
            "از سایر موارد میتوان به تبدیل اعدادی که با رقم نوشته شده اند به حروف یاد کرد، به عنوان مثال عدد یکصد و بیست و سه هزار باید به صورت صد و بیست و سه هزار نوشته شود هرچند که نیازی نیست عدد دو میلیون و نود و سه هزار و پانصد و سی و یک بصورت دو میلیون و نود هزار و پانصد و سی و یک نوشته شود.\n",
            "در نهایت موراد موجود از كاراكتر هاي عربي که احتمالا کم ةم نیستند باید به معدل هاي فارسي آنها که در صورت مسئله بة آن اشارة شدة تبديل شوند.\n"
          ]
        }
      ]
    },
    {
      "cell_type": "markdown",
      "source": [
        "### problem 3 ###"
      ],
      "metadata": {
        "id": "jNw54F5-n443"
      }
    },
    {
      "cell_type": "code",
      "source": [
        "acceptable_chars =' ۱۲۳۴۵۶۷۸۹۰ضصثقفغعهخحجچشسیبلاتنمکگظطزرذدپو'\n",
        "final_3 = []\n",
        "helper_str = ''\n",
        "for sentence in contents:\n",
        "  for character in sentence:\n",
        "    if (character not in acceptable_chars):\n",
        "      character = ''\n",
        "    helper_str = helper_str + character\n",
        "  final_3.append(helper_str)\n",
        "  helper_str = ''\n",
        "\n",
        "print(final_3)\n",
        "output_3 = '\\n'.join(final_3)\n",
        "file_3 = open(\"output3.txt\",\"w\")\n",
        "file_3.writelines(output_3)\n",
        "file_3.close()\n",
        "\n",
        "    "
      ],
      "metadata": {
        "colab": {
          "base_uri": "https://localhost:8080/"
        },
        "id": "D2EU3C7an3nB",
        "outputId": "e64b9cfd-62f9-4af5-9468-ca702dd29615"
      },
      "execution_count": null,
      "outputs": [
        {
          "output_type": "stream",
          "name": "stdout",
          "text": [
            "['این یک فایل متنی نمونه است که برای مسله برنامه نویسی تولید شده است و هیچ کارکرد دیگری ندارد', 'طبیعتا کدی که برای پردازش این فایل می نویسید نباید جمله بندی فایل را بهم بریزد و تنها مواردی که ذکر شده است را باید تغییر بدهد', 'از این موارد می توانیم به حذف اعرب و کراکتر های غر مجاز اشاره کنیم البته نباید فراموش کرد که  و  هم جزو کاراکتر های غیر مجاز محسوب می شوند', 'از سایر موارد میتوان به تبدیل اعدادی که با رقم نوشته شده اند به حروف یاد کرد به عنوان مثال عدد ۱۲۳۰۰۰ باید به صورت صد و بیست و سه هزار نوشته شود هرچند که نیازی نیست عدد دو میلیون و نود و سه هزار و پانصد و سی و یک بصورت ۲۰۹۰۵۳۱ نوشته شود', 'در نهایت موراد موجود از اراتر ها عرب که احتمالا کم م نیستند باید به معدل ها فارس نها که در صورت مسله ب ن اشار شد تبدل شوند']\n"
          ]
        }
      ]
    },
    {
      "cell_type": "markdown",
      "source": [
        "### problem 4 ###"
      ],
      "metadata": {
        "id": "IAZavvJP29P2"
      }
    },
    {
      "cell_type": "code",
      "source": [
        "# do the required modifications mentioned in problem 4\n",
        "final_4 = []\n",
        "for sentence in contents:\n",
        "  content = sentence.replace('ك', 'ک')\n",
        "  content = content.replace('ي','ی')\n",
        "  content = content.replace('ة', 'ه')\n",
        "  final_4.append(content)\n",
        "# write the text in an output.txt\n",
        "print(final_4)\n",
        "file_4 = open(\"output4.txt\",\"w\")\n",
        "file_4.writelines(final_4)\n",
        "file_4.close()\n"
      ],
      "metadata": {
        "colab": {
          "base_uri": "https://localhost:8080/"
        },
        "id": "1GC8YoqE3BCT",
        "outputId": "59462b84-ef9b-481c-9900-ddea3dafa247"
      },
      "execution_count": null,
      "outputs": [
        {
          "output_type": "stream",
          "name": "stdout",
          "text": [
            "['این یک فایل متنی نمونه است که برای مسئله برنامه نویسی تولید شده است و هیچ کارکرد دیگری ندارد.\\n', 'طبیعتا کدی که برای پردازش این فایل می نویسید نباید جمله بندی فایل را بهم بریزد و تنها مواردی که ذکر شده است را باید تغییر بدهد.\\n', 'از این موارد می توانیم به حَذْفْ اِعْرآب وَ کآراکتِرْ های غیرِ مُجازْ اِشاره کُنیمْ، البته نباید فراموش کرد که . و ، هم جزو کاراکتر های غیر مجاز محسوب می شوند.\\n', 'از سایر موارد میتوان به تبدیل اعدادی که با رقم نوشته شده اند به حروف یاد کرد، به عنوان مثال عدد ۱۲۳۰۰۰ باید به صورت صد و بیست و سه هزار نوشته شود هرچند که نیازی نیست عدد دو میلیون و نود و سه هزار و پانصد و سی و یک بصورت ۲۰۹۰۵۳۱ نوشته شود.\\n', 'در نهایت موراد موجود از کاراکتر های عربی که احتمالا کم هم نیستند باید به معدل های فارسی آنها که در صورت مسئله به آن اشاره شده تبدیل شوند.']\n"
          ]
        }
      ]
    }
  ]
}